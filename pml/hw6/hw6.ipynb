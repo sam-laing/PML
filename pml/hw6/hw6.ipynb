{
 "cells": [
  {
   "cell_type": "code",
   "execution_count": 3,
   "metadata": {},
   "outputs": [],
   "source": [
    "import numpy as np"
   ]
  },
  {
   "cell_type": "code",
   "execution_count": null,
   "metadata": {},
   "outputs": [],
   "source": []
  },
  {
   "cell_type": "code",
   "execution_count": 11,
   "metadata": {},
   "outputs": [
    {
     "name": "stdout",
     "output_type": "stream",
     "text": [
      "(3,)\n",
      "(3,)\n"
     ]
    },
    {
     "data": {
      "text/plain": [
       "{0: array([0., 0., 0.]),\n",
       " 1: array([1., 2., 3.]),\n",
       " 2: array([0., 0., 0.]),\n",
       " 3: array([2., 3., 4.]),\n",
       " 4: array([0., 0., 0.]),\n",
       " 5: array([0., 0., 0.]),\n",
       " 6: array([0., 0., 0.]),\n",
       " 7: array([0., 0., 0.])}"
      ]
     },
     "execution_count": 11,
     "metadata": {},
     "output_type": "execute_result"
    }
   ],
   "source": [
    "def LDAFeature(X, Y, K):\n",
    "    '''\n",
    "    The vector Y consists of integers in the set {0,...,K-1}\n",
    "\n",
    "\n",
    "    X is a matrix whose rows are explanatory variables \n",
    "    '''\n",
    "    n = [len([y for y in Y if y==k]) for k in range(K)]\n",
    "    m = {k : np.zeros(X.shape[1]) for k in range(K)}\n",
    "    for x,y in zip(X,Y):\n",
    "        print(x.shape)\n",
    "        for k in range(1,K):\n",
    "            if y == k:\n",
    "\n",
    "                m[k] += x\n",
    "                \n",
    "\n",
    "\n",
    "    return m\n",
    "LDAFeature(X = np.array([[1,2,3], [2,3,4]]), Y = [1,3], K = 8)\n"
   ]
  },
  {
   "cell_type": "code",
   "execution_count": 23,
   "metadata": {},
   "outputs": [],
   "source": [
    "X = np.array([[1,2,3], [4,5,6]])"
   ]
  },
  {
   "cell_type": "code",
   "execution_count": 24,
   "metadata": {},
   "outputs": [
    {
     "data": {
      "text/plain": [
       "(2, 3)"
      ]
     },
     "execution_count": 24,
     "metadata": {},
     "output_type": "execute_result"
    }
   ],
   "source": [
    "X.shape"
   ]
  },
  {
   "cell_type": "code",
   "execution_count": null,
   "metadata": {},
   "outputs": [],
   "source": []
  }
 ],
 "metadata": {
  "kernelspec": {
   "display_name": "Python 3",
   "language": "python",
   "name": "python3"
  },
  "language_info": {
   "codemirror_mode": {
    "name": "ipython",
    "version": 3
   },
   "file_extension": ".py",
   "mimetype": "text/x-python",
   "name": "python",
   "nbconvert_exporter": "python",
   "pygments_lexer": "ipython3",
   "version": "3.10.11"
  },
  "orig_nbformat": 4
 },
 "nbformat": 4,
 "nbformat_minor": 2
}
