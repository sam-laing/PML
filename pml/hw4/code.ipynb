{
 "cells": [
  {
   "attachments": {},
   "cell_type": "markdown",
   "metadata": {},
   "source": [
    "# Probabilistic Machine Learning\n",
    "<div style=\"text-align: right\"> University of Tübingen, Summer Term 2023  &copy; 2023 P. Hennig </div>\n",
    "\n",
    "## Exercise Sheet No. 4 — Gaussians\n",
    "\n",
    "---\n",
    "\n",
    "Submission by:\n",
    "* Sam, Laing, Matrikelnummer: 6283670\n",
    "* Albert, Catalan Tatjer, Matrikelnummer:6443478"
   ]
  },
  {
   "cell_type": "code",
   "execution_count": 3,
   "metadata": {},
   "outputs": [
    {
     "name": "stderr",
     "output_type": "stream",
     "text": [
      "No GPU/TPU found, falling back to CPU. (Set TF_CPP_MIN_LOG_LEVEL=0 and rerun for more info.)\n"
     ]
    }
   ],
   "source": [
    "import jax.numpy as jnp\n",
    "from jax import random\n",
    "key = random.PRNGKey(0)\n",
    "from exponential_families import *\n",
    "from tueplots import bundles\n",
    "from matplotlib import pyplot as plt\n",
    "plt.rcParams.update(bundles.beamer_moml())\n",
    "plt.rcParams.update({'figure.dpi': 200})"
   ]
  },
  {
   "attachments": {},
   "cell_type": "markdown",
   "metadata": {},
   "source": [
    "## Exercise 4.2 (Coding Exercise)\n",
    "\n",
    "> This week's Exercise is directly taken from Exercise 24.3. of [David JC MacKay](https://en.wikipedia.org/wiki/David_J._C._MacKay)'s [*Information Theory, Inference, and Learning Algorithms*](http://www.inference.org.uk/mackay/itila/). (But don't waste your time trying to find an answer there :)\n",
    "\n",
    "The terribly important quantity $\\mu$ has been experimentally measured by seven scientists (A, B, C, D, E, F, G) with wildly differing experimental skills. They have reported the following measurements:"
   ]
  },
  {
   "cell_type": "code",
   "execution_count": 4,
   "metadata": {},
   "outputs": [],
   "source": [
    "X = jnp.array([-27.020,3.570,8.191,9.898,9.603,9.945,10.056])"
   ]
  },
  {
   "cell_type": "code",
   "execution_count": 5,
   "metadata": {},
   "outputs": [
    {
     "data": {
      "text/plain": [
       "Text(0.5, 0, 'measured value of $x$')"
      ]
     },
     "execution_count": 5,
     "metadata": {},
     "output_type": "execute_result"
    },
    {
     "name": "stderr",
     "output_type": "stream",
     "text": [
      "findfont: Font family ['cursive'] not found. Falling back to DejaVu Sans.\n",
      "findfont: Generic family 'cursive' not found because none of the following families were found: Apple Chancery, Textile, Zapf Chancery, Sand, Script MT, Felipa, Comic Neue, Comic Sans MS, cursive\n"
     ]
    },
    {
     "data": {
      "image/png": "[encoded data removed]",
      "text/plain": [
       "<Figure size 1102.36x496.063 with 1 Axes>"
      ]
     },
     "metadata": {},
     "output_type": "display_data"
    }
   ],
   "source": [
    "fig,ax = plt.subplots(1,1)\n",
    "ax.plot(X,random.uniform(key, shape=(7,)),'x',ms=3)\n",
    "\n",
    "ax.yaxis.set_visible(False)\n",
    "ax.spines['right'].set_visible(False)\n",
    "ax.spines['top'].set_visible(False)\n",
    "ax.spines['left'].set_visible(False)\n",
    "ax.set_xlabel('measured value of $x$')"
   ]
  },
  {
   "attachments": {},
   "cell_type": "markdown",
   "metadata": {},
   "source": [
    "We assume that they have all, independently of each other, made an unbiased Gaussian measurement of $\\mu$: \n",
    "$$p(\\boldsymbol{x}\\mid \\mu,\\boldsymbol{\\sigma}) = \\prod_{i=1} ^7 \\mathcal{N}(x_i;\\mu,\\sigma_i ^2).$$ \n",
    "But we have to assume that their measurement errors $\\sigma_i$ vary a lot (some are skilled experimentalists, others are unqualified). \n",
    "\n",
    "#### Task A: \n",
    "Implement the likelihood above as a single jax function (this is unfortunately a case where our neat `ExponentialFamily` base class is more awkward than useful). Try using a numerical optimizer to find *maximum likelihood estimators*, i.e. points $(\\mu, \\vec{\\sigma})$ that maximize this function. Alternatively, you can try and identify such points directly by inspecting the likelihood by hand.\n",
    "  \n",
    "You probably agree that, intuitively, it looks pretty certain that A and B are both inept measurers, that D–G are better, and that the true value of $\\mu$ is somewhere close to $10$. Are your findings consistent with this intuition?  "
   ]
  },
  {
   "attachments": {},
   "cell_type": "markdown",
   "metadata": {},
   "source": [
    "The Likelihood here is given by\n",
    "$$\n",
    "L(\\mu, \\sigma_1,...,\\sigma_7) = \\prod_{j=1}^{7} {\\frac{1}{\\sqrt{2\\pi}\\sigma_j} \\ \\exp(-\\frac{1}{2} \\frac{(x_j - \\mu)^2}{\\sigma_j^2})}\n",
    "$$\n",
    "So the Log-likelihood is therefore given by:\n",
    "$$\n",
    "\\log \\ L = -7 \\log(\\sqrt{2\\pi}) - \\sum_{j=1}^7 \\log(\\sigma_j) - \\frac{1}{2} \\sum_{j=1}^7 \\frac{(x_j - \\mu)^2}{2\\sigma_j^2} \n",
    "$$\n",
    "We implement this function in jax and then optimize by minimizing the negative log likelihood over $(\\mu, \\sigma_1,...,\\sigma_7)$"
   ]
  },
  {
   "cell_type": "code",
   "execution_count": 6,
   "metadata": {},
   "outputs": [],
   "source": [
    "from jax.scipy.optimize import minimize\n",
    "\n",
    "params_init = jnp.array([10, 1, 1, 1, 1, 1, 1, 1])\n",
    "\n",
    "\n",
    "# defining the negative log likelihood \n",
    "# (including the square root of a square to ensure positive values for the standard deviations)\n",
    "# also leaving out the constant since it doesn't affect the optimization\n",
    "def neg_log_like(params):\n",
    "    mu, sig = params[0], params[1:]\n",
    "    return jnp.sum(jnp.log(jnp.sqrt(sig)) ** 2 + 0.5 * ((X - mu) / sig) ** 2)"
   ]
  },
  {
   "cell_type": "code",
   "execution_count": 9,
   "metadata": {},
   "outputs": [],
   "source": [
    "# minimizing using jax and initializing with higher variance for samples far away from\n",
    "result = minimize(\n",
    "    neg_log_like, x0=jnp.array([10, 40, 15, 2, 0.5, 0.5, 0.5, 0.25]), method=\"BFGS\"\n",
    ")\n",
    "\n",
    "# Extract the optimized parameters and the minimum value\n",
    "params_optimized = result.x\n",
    "\n"
   ]
  },
  {
   "cell_type": "code",
   "execution_count": 10,
   "metadata": {},
   "outputs": [
    {
     "name": "stdout",
     "output_type": "stream",
     "text": [
      "Optimized Parameters: [Array(9.722158, dtype=float32), Array(5.3295555, dtype=float32), Array(2.5276077, dtype=float32), Array(1.5314531, dtype=float32), Array(1.0280777, dtype=float32), Array(1.0135379, dtype=float32), Array(1.0428718, dtype=float32), Array(1.084028, dtype=float32)]\n"
     ]
    }
   ],
   "source": [
    "p_optim = [params_optimized[0]]\n",
    "p_optim.extend(jnp.sqrt(s) for s in params_optimized[1:])\n",
    "print(\"Optimized Parameters:\", p_optim)"
   ]
  },
  {
   "attachments": {},
   "cell_type": "markdown",
   "metadata": {},
   "source": [
    "Our findings seem to agree with $\\mu$ being close to 10 and the variance of the leftmost and second leftmost observers being much higher than the ones close to 10.\n",
    "However, in order to arrive at the \"correct\" local minima, we had to initialize the variance $\\sigma_1$ to be fairly high which is reasonable since otherwise we may find other local minima in this 8 dimensional function."
   ]
  },
  {
   "attachments": {},
   "cell_type": "markdown",
   "metadata": {},
   "source": [
    "#### Task B:\n",
    "We will now instead provide a Bayesian answer. Let the prior on each $\\sigma_i^{-2}$ be a broad [Gamma distribution](https://en.wikipedia.org/wiki/Gamma_distribution), i.e. the distribution\n",
    "$$ \\mathcal{G}(z;\\alpha,\\beta)=\\frac{\\beta^\\alpha}{\\Gamma(\\alpha)} z^{\\alpha-1} e^{-\\beta z},$$\n",
    "and\n",
    "$$p(\\boldsymbol{\\sigma}) = \\prod_{i=1} ^7 \\mathcal{G}(\\sigma_i^{-2};\\alpha,\\beta),$$ \n",
    "with, say, $\\alpha=1$, $\\beta=0.1$. \n",
    "\n",
    "Let the prior for $\\mu$ be a broad Gaussian $p(\\mu) = \\mathcal{N}(\\mu; m, v^2)$ with mean $m = 0$ and standard deviation $v = 10^3$. \n",
    "\n",
    "Find the posterior for $\\mu$. Plot this posterior for $\\mu$, both for the data given above and for $\\boldsymbol{x} = \\{13.01, 7.39\\}$.\n",
    "\n",
    "\n",
    "**Hint:** First, remember that the Gamma is the conjugate prior for the Gaussian with fixed mean $\\mu$. The marginal $p(\\boldsymbol{x}\\mid\\mu)$ can thus be computed using the `log_marginal_pdf` function you implemented generically for exponential families last week, and which has an analytic form. Then use Bayes' theorem a second time to find $p(\\mu\\mid\\boldsymbol{x})$ up to normalization, by directly multiplying the prior for $\\mu$ and the marginal likelihood terms you just found. \n"
   ]
  },
  {
   "attachments": {},
   "cell_type": "markdown",
   "metadata": {},
   "source": [
    "We observe that we have:\n",
    "$$\n",
    "\\int_0^{\\infty} z^{a-1}e^{-bz} dz = \\frac{\\Gamma(a)}{b^a}\n",
    "$$"
   ]
  },
  {
   "cell_type": "code",
   "execution_count": 12,
   "metadata": {},
   "outputs": [],
   "source": [
    "import abc\n",
    "import functools\n",
    "\n",
    "\n",
    "class ExponentialFamily(abc.ABC):\n",
    "    @abc.abstractmethod\n",
    "    def sufficient_statistics(self, x: ArrayLike, /) -> jnp.ndarray:\n",
    "        \"\"\"Signature `(D)->(P)`\"\"\"\n",
    "\n",
    "    @abc.abstractmethod\n",
    "    def log_base_measure(self, x: ArrayLike, /) -> jnp.ndarray:\n",
    "        \"\"\"Signature `(D)->()`\"\"\"\n",
    "\n",
    "    @abc.abstractmethod\n",
    "    def log_partition(self, parameters: ArrayLike, /) -> jnp.ndarray:\n",
    "        \"\"\"Signature `(P)->()`\"\"\"\n",
    "\n",
    "    def parameters_to_natural_parameters(self, parameters: ArrayLike, /) -> jnp.ndarray:\n",
    "        \"\"\"Signature `(P)->(P)`\n",
    "        In some EF's, the canonical parameters are\n",
    "        actually a transformation of the natural parameters.\n",
    "        In such cases, this method should be overwritten to\n",
    "        provide the inverse transformation.\n",
    "        \"\"\"\n",
    "        return jnp.asarray(parameters)\n",
    "\n",
    "    def logpdf(self, x: ArrayLike, parameters: ArrayLike, /) -> jnp.ndarray:\n",
    "        \"\"\"Signature `(D),(P)->()`\n",
    "        log p(x|parameters)\n",
    "            = log h(x) + sufficient_statistics(x) @ natural_parameters - log Z(natural_parameters)\n",
    "            = log base measure + linear term - log partition\n",
    "        \"\"\"\n",
    "\n",
    "        x = jnp.asarray(x)\n",
    "        log_base_measure = self.log_base_measure(x)\n",
    "        natural_parameters = self.parameters_to_natural_parameters(parameters)\n",
    "        linear_term = (\n",
    "            self.sufficient_statistics(x)[..., None, :] @ natural_parameters[..., None]\n",
    "        )[..., 0, 0]\n",
    "        log_partition = self.log_partition(parameters)\n",
    "\n",
    "        return log_base_measure + linear_term - log_partition\n",
    "\n",
    "    def conjugate_log_partition(\n",
    "        self, alpha: ArrayLike, nu: ArrayLike, /\n",
    "    ) -> jnp.ndarray:\n",
    "        \"\"\"The log partition function of the conjugate exponential family.\n",
    "        Signature `(P),()->()`\n",
    "        If(!) this is available, it allows analytic construction of the conjugate prior (and thus analytic posterior inference).\n",
    "        \"\"\"\n",
    "        raise NotImplementedError()\n",
    "\n",
    "    def conjugate_prior(self) -> \"ConjugateFamily\":\n",
    "        return ConjugateFamily(self)\n",
    "\n",
    "    def predictive_log_marginal_pdf(\n",
    "        self,\n",
    "        x: ArrayLike,\n",
    "        conjugate_natural_parameters: ArrayLike,\n",
    "    ) -> jnp.ndarray:\n",
    "        \"\"\"Signature `(D),(P)->()`\n",
    "        log p(x|conjugate_natural_parameters)\n",
    "        Your answer to Part B below should be implemented here.\n",
    "        \"\"\"\n",
    "        x = jnp.asarray(x)\n",
    "        alpha, nu = conjugate_natural_parameters\n",
    "        P = (\n",
    "            self.log_base_measure(x)\n",
    "            + self.conjugate_log_partition(\n",
    "                self.sufficient_statistics(x) + alpha, nu + 1\n",
    "            )\n",
    "            - self.conjugate_log_partition(alpha, nu)\n",
    "        )\n",
    "\n",
    "        return P[0][0], P[1][0]\n",
    "\n",
    "\n",
    "    def posterior_parameters(\n",
    "        self,\n",
    "        prior_natural_parameters: ArrayLike,\n",
    "        data: ArrayLike,\n",
    "    ) -> jnp.ndarray:\n",
    "        \"\"\"Computes the natural parameters of the posterior distribution under the\n",
    "        conjugate prior.\n",
    "        Signature `(P),(D)->(P)`\n",
    "        This can be implemented already in the abc and inherited by all subclasses,\n",
    "        even if the conjugate log partition function is not available.\n",
    "        (In the latter case, only the unnormalized posterior is immediately available, see below).\n",
    "        \"\"\"\n",
    "\n",
    "        prior_natural_parameters = jnp.asarray(prior_natural_parameters)\n",
    "\n",
    "        sufficient_statistics = self.sufficient_statistics(data)\n",
    "\n",
    "        n = sufficient_statistics[..., 0].size\n",
    "        expected_sufficient_statistics = jnp.sum(\n",
    "            sufficient_statistics,\n",
    "            axis=tuple(range(sufficient_statistics.ndim)),\n",
    "        )\n",
    "\n",
    "        alpha_prior, nu_prior = (\n",
    "            prior_natural_parameters[:-1],\n",
    "            prior_natural_parameters[-1],\n",
    "        )\n",
    "\n",
    "        return jnp.append(alpha_prior + expected_sufficient_statistics, nu_prior + n)\n",
    "\n",
    "    def Laplace_predictive_log_marginal_pdf(self, x, natural_parameters, mode):\n",
    "        def log_posterier(mode):\n",
    "            return self.conjugate_prior().unnormalized_logpdf(mode, natural_parameters)\n",
    "\n",
    "        mode = jnp.asarray(mode)\n",
    "        x = jnp.asarray(x)\n",
    "        alpha, nu = natural_parameters\n",
    "\n",
    "        psi = jax.hessian(log_posterier)(mode)\n",
    "        const = jnp.sqrt((2 * jnp.pi) ** len(mode) * jnp.linalg.det(jnp.linalg.inv(-psi)))\n",
    "\n",
    "        def approx_conj_log_partition(natural_parameters):\n",
    "            alpha, nu = natural_parameters\n",
    "            exp_term = jnp.exp(mode.T * alpha - self.log_partition(mode).T * nu)\n",
    "            return jnp.log(const * exp_term)\n",
    "\n",
    "        L = (\n",
    "            self.log_base_measure(x)\n",
    "            + approx_conj_log_partition(\n",
    "                (self.sufficient_statistics(x) + alpha, nu + 1)\n",
    "            )\n",
    "            - approx_conj_log_partition((alpha, nu))\n",
    "        )\n",
    "        return L[0][0], L[1][0]\n",
    "\n",
    "\n",
    "class ConjugateFamily(ExponentialFamily):\n",
    "    def __init__(self, likelihood: ExponentialFamily) -> None:\n",
    "        self._likelihood = likelihood\n",
    "\n",
    "    @functools.partial(jnp.vectorize, excluded={0}, signature=\"(d)->(p)\")\n",
    "    def sufficient_statistics(self, w: ArrayLike, /) -> jnp.ndarray:\n",
    "        \"\"\"Signature `(D)->(P)`\n",
    "        the sufficient statistics of the conjugate family are\n",
    "        the natural parameters and the (negative) log partition function of the likelihood.\n",
    "        \"\"\"\n",
    "        return jnp.append(\n",
    "            self._likelihood.parameters_to_natural_parameters(w),\n",
    "            -self._likelihood.log_partition(w),\n",
    "        )\n",
    "\n",
    "    def log_base_measure(self, w: ArrayLike, /) -> jnp.ndarray:\n",
    "        \"\"\"Signature `(D)->()`\n",
    "        the base measure of the conjugate family is, implicitly, the Lebesgue measure.\n",
    "        \"\"\"\n",
    "        w = jnp.asarray(w)\n",
    "\n",
    "        return jnp.zeros_like(w[..., 0])\n",
    "\n",
    "    def log_partition(self, natural_parameters: ArrayLike, /) -> jnp.ndarray:\n",
    "        \"\"\"Signature `(P)->()`\n",
    "        If the conjugate log partition function is available,\n",
    "        we can use it to compute the log partition function of the conjugate family.\n",
    "        \"\"\"\n",
    "        natural_parameters = jnp.asarray(natural_parameters)\n",
    "\n",
    "        alpha, nu = natural_parameters[:-1], natural_parameters[-1]\n",
    "\n",
    "        return self._likelihood.conjugate_log_partition(alpha, nu)\n",
    "\n",
    "    def unnormalized_logpdf(\n",
    "        self, w: ArrayLike, natural_parameters: ArrayLike, /\n",
    "    ) -> jnp.ndarray:\n",
    "        \"\"\"Signature `(D),(P)->()`\n",
    "        Even if the conjugate log partition function is not available,\n",
    "        we can still compute the unnormalized log pdf of the conjugate family.\n",
    "        \"\"\"\n",
    "\n",
    "        return self.sufficient_statistics(w) @ jnp.asarray(natural_parameters)\n",
    "\n",
    "    def laplace_precision(\n",
    "        self,\n",
    "        natural_parameters: ArrayLike,\n",
    "        mode: ArrayLike,\n",
    "        /,\n",
    "    ) -> jnp.ndarray:\n",
    "        \"\"\"Signature `(P),(D)->()`\n",
    "        If the conjugate log partition function is _not_ available,\n",
    "        we can still compute the Laplace approximation to the posterior,\n",
    "        using only structure provided by the likelihood.\n",
    "        This requires the mode of the likelihood, which is not available in general,\n",
    "        but may be found by numerical optimization if necessary.\n",
    "        \"\"\"\n",
    "        return -jax.hessian(self.unnormalized_logpdf, argnums=0)(\n",
    "            jnp.asarray(mode), natural_parameters\n",
    "        )"
   ]
  },
  {
   "cell_type": "code",
   "execution_count": 13,
   "metadata": {},
   "outputs": [],
   "source": [
    "from jax.scipy.special import gammaln"
   ]
  },
  {
   "attachments": {},
   "cell_type": "markdown",
   "metadata": {},
   "source": [
    "Our likelihood is Gaussian with mean $\\mu$ and precision $\\sigma^{-2}$ where $\\sigma^{-2} \\sim \\text{Gamma}(a,b)$. We therefore define an exponential family of a Gaussian. Then, as per last week's homework, call the conjugate prior "
   ]
  },
  {
   "cell_type": "code",
   "execution_count": 14,
   "metadata": {},
   "outputs": [],
   "source": [
    "class Gaussian(ExponentialFamily):\n",
    "    def __init__(self, mu):\n",
    "        super().__init__()\n",
    "        # need a fixed mean mu\n",
    "        self.mu = mu\n",
    "\n",
    "    def sufficient_statistics(self, x: ArrayLike | jnp.ndarray) -> jnp.ndarray:\n",
    "        x = jnp.asarray(x)\n",
    "        return jnp.asarray([self.mu * x - 0.5 * x**2])\n",
    "\n",
    "    def log_base_measure(self, x: ArrayLike | jnp.ndarray) -> jnp.ndarray:\n",
    "        x = jnp.asarray(x)\n",
    "        return 0\n",
    "\n",
    "    def log_partition(self, tau: ArrayLike | jnp.ndarray) -> jnp.ndarray:\n",
    "        \"\"\"natural parameters are just w = sig^-2 since mean is fixed\"\"\"\n",
    "        tau = jnp.asarray(tau)\n",
    "        return self.mu**2 - jnp.log(tau) + jnp.log(2*jnp.pi)\n",
    "\n",
    "    def parameters_to_natural_parameters(\n",
    "        self, tau: ArrayLike | jnp.ndarray\n",
    "    ) -> jnp.ndarray:\n",
    "        \"\"\"param  = sig^-2\"\"\"\n",
    "        params = jnp.asarray(params)\n",
    "        return tau\n",
    "\n",
    "    # let's skip this at first glance:\n",
    "    \n",
    "    def conjugate_log_partition(\n",
    "        self, alpha: ArrayLike | jnp.ndarray, nu: ArrayLike | jnp.ndarray\n",
    "    ) -> jnp.ndarray:\n",
    "        \n",
    "        return jax.scipy.integrate( lambda tau: alpha * tau - nu * self.log_partition(tau),0,1000)\n"
   ]
  },
  {
   "cell_type": "code",
   "execution_count": 15,
   "metadata": {},
   "outputs": [],
   "source": [
    "def likelihood(mu):\n",
    " return Gaussian(mu)\n",
    "\n",
    "def prior(mu):\n",
    "    return likelihood(mu).conjugate_prior()\n",
    "    \n",
    "\n",
    "a,b = 1, 0.1\n",
    "prior_natural_parameters = [a,b]\n",
    "data = X\n",
    "\n",
    "def posterior_nat_params(mu, posterior_nat_params, data):\n",
    "    posterior = prior(mu)\n",
    "    posterior_natural_parameters = likelihood(mu).posterior_parameters(prior_natural_parameters = prior_natural_parameters, data = data)\n",
    "    return posterior_natural_parameters\n",
    "\n",
    "\n",
    "\n"
   ]
  },
  {
   "cell_type": "code",
   "execution_count": 16,
   "metadata": {},
   "outputs": [
    {
     "data": {
      "text/plain": [
       "Array([7.008911, 1.1     ], dtype=float32)"
      ]
     },
     "execution_count": 16,
     "metadata": {},
     "output_type": "execute_result"
    }
   ],
   "source": [
    "posterior_nat_params(25, [1,0.1], X)"
   ]
  },
  {
   "cell_type": "code",
   "execution_count": null,
   "metadata": {},
   "outputs": [],
   "source": [
    "prior(10).predictive_log_marginal_pdf(x = [[0],[1]], conjugate_natural_parameters=posterior_nat_params(10, [1,0.1], X)) "
   ]
  },
  {
   "cell_type": "code",
   "execution_count": null,
   "metadata": {},
   "outputs": [],
   "source": []
  }
 ],
 "metadata": {
  "kernelspec": {
   "display_name": "Python 3",
   "language": "python",
   "name": "python3"
  },
  "language_info": {
   "codemirror_mode": {
    "name": "ipython",
    "version": 3
   },
   "file_extension": ".py",
   "mimetype": "text/x-python",
   "name": "python",
   "nbconvert_exporter": "python",
   "pygments_lexer": "ipython3",
   "version": "3.10.11"
  }
 },
 "nbformat": 4,
 "nbformat_minor": 2
}
