{
 "cells": [
  {
   "cell_type": "markdown",
   "metadata": {},
   "source": [
    "# Probabilistic Machine Learning\n",
    "<div style=\"text-align: right\"> University of Tübingen, Summer Term 2023  &copy; 2023 P. Hennig </div>\n",
    "\n",
    "## Exercise Sheet No. 4 — Gaussians\n",
    "\n",
    "---\n",
    "\n",
    "Submission by:\n",
    "* FirstName1, Surname1, Matrikelnummer: MatrikelnummerOfFirstTeamMember\n",
    "* FirstName2, Surname2, Matrikelnummer: MatrikelnummerOfSecondTeamMember"
   ]
  },
  {
   "cell_type": "code",
   "execution_count": 6,
   "metadata": {},
   "outputs": [],
   "source": [
    "import jax.numpy as jnp\n",
    "from jax import random\n",
    "key = random.PRNGKey(0)\n",
    "from exponential_families import *\n",
    "from tueplots import bundles\n",
    "from matplotlib import pyplot as plt\n",
    "plt.rcParams.update(bundles.beamer_moml())\n",
    "plt.rcParams.update({'figure.dpi': 200})"
   ]
  },
  {
   "cell_type": "markdown",
   "metadata": {},
   "source": [
    "## Exercise 4.2 (Coding Exercise)\n",
    "\n",
    "> This week's Exercise is directly taken from Exercise 24.3. of [David JC MacKay](https://en.wikipedia.org/wiki/David_J._C._MacKay)'s [*Information Theory, Inference, and Learning Algorithms*](http://www.inference.org.uk/mackay/itila/). (But don't waste your time trying to find an answer there :)\n",
    "\n",
    "The terribly important quantity $\\mu$ has been experimentally measured by seven scientists (A, B, C, D, E, F, G) with wildly differing experimental skills. They have reported the following measurements:"
   ]
  },
  {
   "cell_type": "code",
   "execution_count": 7,
   "metadata": {},
   "outputs": [],
   "source": [
    "X = jnp.array([-27.020,3.570,8.191,9.898,9.603,9.945,10.056])"
   ]
  },
  {
   "cell_type": "code",
   "execution_count": 8,
   "metadata": {},
   "outputs": [
    {
     "data": {
      "text/plain": [
       "Text(0.5, 0, 'measured value of $x$')"
      ]
     },
     "execution_count": 8,
     "metadata": {},
     "output_type": "execute_result"
    },
    {
     "data": {
      "image/png": "[encoded data removed]",
      "text/plain": [
       "<Figure size 1102.36x496.063 with 1 Axes>"
      ]
     },
     "metadata": {
      "needs_background": "light"
     },
     "output_type": "display_data"
    }
   ],
   "source": [
    "fig,ax = plt.subplots(1,1)\n",
    "ax.plot(X,random.uniform(key, shape=(7,)),'x',ms=3)\n",
    "\n",
    "ax.yaxis.set_visible(False)\n",
    "ax.spines['right'].set_visible(False)\n",
    "ax.spines['top'].set_visible(False)\n",
    "ax.spines['left'].set_visible(False)\n",
    "ax.set_xlabel('measured value of $x$')"
   ]
  },
  {
   "cell_type": "markdown",
   "metadata": {},
   "source": [
    "We assume that they have all, independently of each other, made an unbiased Gaussian measurement of $\\mu$: \n",
    "$$p(\\boldsymbol{x}\\mid \\mu,\\boldsymbol{\\sigma}) = \\prod_{i=1} ^7 \\mathcal{N}(x_i;\\mu,\\sigma_i ^2).$$ \n",
    "But we have to assume that their measurement errors $\\sigma_i$ vary a lot (some are skilled experimentalists, others are unqualified). \n",
    "\n",
    "#### Task A: \n",
    "Implement the likelihood above as a single jax function (this is unfortunately a case where our neat `ExponentialFamily` base class is more awkward than useful). Try using a numerical optimizer to find *maximum likelihood estimators*, i.e. points $(\\mu, \\vec{\\sigma})$ that maximize this function. Alternatively, you can try and identify such points directly by inspecting the likelihood by hand.\n",
    "  \n",
    "You probably agree that, intuitively, it looks pretty certain that A and B are both inept measurers, that D–G are better, and that the true value of $\\mu$ is somewhere close to $10$. Are your findings consistent with this intuition?  "
   ]
  },
  {
   "cell_type": "code",
   "execution_count": 4,
   "metadata": {},
   "outputs": [],
   "source": [
    "## Your answer here"
   ]
  },
  {
   "cell_type": "markdown",
   "metadata": {},
   "source": [
    "#### Task B:\n",
    "We will now instead provide a Bayesian answer. Let the prior on each $\\sigma_i^{-2}$ be a broad [Gamma distribution](https://en.wikipedia.org/wiki/Gamma_distribution), i.e. the distribution\n",
    "$$ \\mathcal{G}(z;\\alpha,\\beta)=\\frac{\\beta^\\alpha}{\\Gamma(\\alpha)} z^{\\alpha-1} e^{-\\beta z},$$\n",
    "and\n",
    "$$p(\\boldsymbol{\\sigma}) = \\prod_{i=1} ^7 \\mathcal{G}(\\sigma_i^{-2};\\alpha,\\beta),$$ \n",
    "with, say, $\\alpha=1$, $\\beta=0.1$. \n",
    "\n",
    "Let the prior for $\\mu$ be a broad Gaussian $p(\\mu) = \\mathcal{N}(\\mu; m, v^2)$ with mean $m = 0$ and standard deviation $v = 10^3$. \n",
    "\n",
    "Find the posterior for $\\mu$. Plot this posterior for $\\mu$, both for the data given above and for $\\boldsymbol{x} = \\{13.01, 7.39\\}$.\n",
    "\n",
    "\n",
    "**Hint:** First, remember that the Gamma is the conjugate prior for the Gaussian with fixed mean $\\mu$. The marginal $p(\\boldsymbol{x}\\mid\\mu)$ can thus be computed using the `log_marginal_pdf` function you implemented generically for exponential families last week, and which has an analytic form. Then use Bayes' theorem a second time to find $p(\\mu\\mid\\boldsymbol{x})$ up to normalization, by directly multiplying the prior for $\\mu$ and the marginal likelihood terms you just found. \n"
   ]
  },
  {
   "cell_type": "code",
   "execution_count": 5,
   "metadata": {},
   "outputs": [],
   "source": [
    "## Your answer here."
   ]
  },
  {
   "cell_type": "code",
   "execution_count": null,
   "metadata": {},
   "outputs": [],
   "source": []
  }
 ],
 "metadata": {
  "kernelspec": {
   "display_name": "Python 3",
   "language": "python",
   "name": "python3"
  },
  "language_info": {
   "codemirror_mode": {
    "name": "ipython",
    "version": 3
   },
   "file_extension": ".py",
   "mimetype": "text/x-python",
   "name": "python",
   "nbconvert_exporter": "python",
   "pygments_lexer": "ipython3",
   "version": "3.8.10"
  }
 },
 "nbformat": 4,
 "nbformat_minor": 2
}
